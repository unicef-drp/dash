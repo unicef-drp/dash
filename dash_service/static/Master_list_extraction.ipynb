{
 "cells": [
  {
   "cell_type": "code",
   "execution_count": 8,
   "id": "bf113546",
   "metadata": {},
   "outputs": [
    {
     "name": "stdout",
     "output_type": "stream",
     "text": [
      "Indicator mapping has been written to indicator_buttons.json\n"
     ]
    }
   ],
   "source": [
    "import pandas as pd\n",
    "import json\n",
    "import pathlib\n",
    "\n",
    "# Read the master list Excel file and set the first row as header\n",
    "master_file_path = \"master_list.xlsx\"\n",
    "master_df = pd.read_excel(\n",
    "    master_file_path,\n",
    "    sheet_name=\"Master List\",\n",
    "    header=0,  # Use the first row as column headers\n",
    ")\n",
    "\n",
    "# Create a dictionary to store the mapping\n",
    "indicator_mapping = {}\n",
    "\n",
    "# Iterate through rows in the DataFrame and populate the dictionary\n",
    "for index, row in master_df.iterrows():\n",
    "    code = row[\"Code\"]\n",
    "    indicator_button = row[\"Indicator Button\"]\n",
    "    indicator_mapping[code] = indicator_button\n",
    "\n",
    "# Write the dictionary to a JSON file\n",
    "json_file_path = \"indicator_buttons.json\"\n",
    "with open(json_file_path, \"w\") as json_file:\n",
    "    json.dump(indicator_mapping, json_file, indent=4)\n",
    "\n",
    "print(\"Indicator mapping has been written to indicator_buttons.json\")"
   ]
  },
  {
   "cell_type": "code",
   "execution_count": 9,
   "id": "409485fa",
   "metadata": {},
   "outputs": [
    {
     "name": "stdout",
     "output_type": "stream",
     "text": [
      "Indicator definitions have been written to indicator_definitions.json\n"
     ]
    }
   ],
   "source": [
    "# Create a dictionary to store the mapping\n",
    "indicator_definitions = {}\n",
    "\n",
    "# Iterate through rows in the DataFrame and populate the dictionary\n",
    "for index, row in master_df.iterrows():\n",
    "    code = row[\"Code\"]\n",
    "    indicator_definition = row[\"Indicator Definition\"]\n",
    "    indicator_definitions[code] = indicator_definition\n",
    "\n",
    "# Write the dictionary to a JSON file\n",
    "json_file_path = \"indicator_definitions.json\"\n",
    "with open(json_file_path, \"w\") as json_file:\n",
    "    json.dump(indicator_definitions, json_file, indent=4)\n",
    "\n",
    "print(\"Indicator definitions have been written to indicator_definitions.json\")"
   ]
  },
  {
   "cell_type": "code",
   "execution_count": null,
   "id": "3fb70683",
   "metadata": {},
   "outputs": [],
   "source": []
  }
 ],
 "metadata": {
  "kernelspec": {
   "display_name": "Python 3 (ipykernel)",
   "language": "python",
   "name": "python3"
  },
  "language_info": {
   "codemirror_mode": {
    "name": "ipython",
    "version": 3
   },
   "file_extension": ".py",
   "mimetype": "text/x-python",
   "name": "python",
   "nbconvert_exporter": "python",
   "pygments_lexer": "ipython3",
   "version": "3.9.13"
  }
 },
 "nbformat": 4,
 "nbformat_minor": 5
}
